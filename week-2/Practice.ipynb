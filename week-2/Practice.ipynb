{
 "cells": [
  {
   "cell_type": "code",
   "execution_count": 1,
   "id": "c86709ed-1792-4e5b-8f0f-aa3210167e06",
   "metadata": {},
   "outputs": [
    {
     "name": "stdin",
     "output_type": "stream",
     "text": [
      "Enter your state of origin:  Abia \n"
     ]
    },
    {
     "name": "stdout",
     "output_type": "stream",
     "text": [
      "Your state of origin is  Abia \n",
      "The first character is:  A\n",
      "The characters starting from 3rd to 5th are:  i\n",
      "The string starting from 3rd character is:  ia \n",
      "State of origin two times Abia Abia \n"
     ]
    }
   ],
   "source": [
    "str = input (\"Enter your state of origin: \")\n",
    "\n",
    "print (\"Your state of origin is \", str)\n",
    "print (\"The first character is: \", str[0])\n",
    "print (\"The characters starting from 3rd to 5th are: \", str[2::5])\n",
    "print (\"The string starting from 3rd character is: \", str[2:])\n",
    "print (\"State of origin two times\", str * 2)\n"
   ]
  },
  {
   "cell_type": "code",
   "execution_count": 3,
   "id": "a91e82b1-13bb-4280-848e-754ad4e25c2a",
   "metadata": {},
   "outputs": [
    {
     "name": "stdin",
     "output_type": "stream",
     "text": [
      "Enter mass in kilogram:  50\n"
     ]
    },
    {
     "name": "stdout",
     "output_type": "stream",
     "text": [
      "The energy equivalent to 50.0 kg of mass is 4.493775893684088e+18 joules.\n"
     ]
    }
   ],
   "source": [
    "# Input from user\n",
    "m = float( input(\"Enter mass in kilogram: \"))\n",
    "\n",
    "#Constant value for the speed of light in m/s \n",
    "c = 299792458\n",
    "\n",
    "# Calculating energy using Einstein's Equation\n",
    "energy = m * c ** 2\n",
    "\n",
    "# Displaying the result \n",
    "print(f\"The energy equivalent to {m} kg of mass is {energy} joules.\")\n",
    "\n"
   ]
  },
  {
   "cell_type": "code",
   "execution_count": 18,
   "id": "e46eb144-51c7-4cc4-9cd0-90595c15e99a",
   "metadata": {},
   "outputs": [
    {
     "name": "stdout",
     "output_type": "stream",
     "text": [
      "['Anaconda', 786, 2.23, 'Jupyter', 70.2]\n",
      "Anaconda\n",
      "[786, 2.23]\n",
      "[2.23, 'Jupyter', 70.2]\n",
      "[321, 'Python', 321, 'Python']\n",
      "['Anaconda', 786, 2.23, 'Jupyter', 70.2, 321, 'Python']\n"
     ]
    }
   ],
   "source": [
    "list = [ 'Anaconda', 786, 2.23, 'Jupyter', 70.2 ]\n",
    "shortlist = [321, 'Python' ]\n",
    "\n",
    "print(list)                # Prints complete list \n",
    "print(list[0])            # Prints first element of the list\n",
    "print(list[1:3])           # Prints elements starting from 2nd till 3rd\n",
    "print(list[2:])           # Prints elements starting from 3rd element \n",
    "print(shortlist * 2)       # Prints list two times \n",
    "print(list + shortlist)    # Prints concatenated lists "
   ]
  },
  {
   "cell_type": "code",
   "execution_count": 20,
   "id": "568309dd-4bcb-434f-b23b-24da3990382c",
   "metadata": {},
   "outputs": [
    {
     "name": "stdout",
     "output_type": "stream",
     "text": [
      "('Ekiti', 750, 'Oshogbo', 250, 'Akure', 500)\n",
      "500\n",
      "('Oshogbo', 250)\n",
      "(250, 'Akure', 500)\n",
      "('Abeokuta', 300, 'Ogbomoso', 'Abeokuta', 300, 'Ogbomoso', 'Abeokuta', 300, 'Ogbomoso')\n",
      "('Ekiti', 750, 'Oshogbo', 250, 'Akure', 500, 'Abeokuta', 300, 'Ogbomoso')\n"
     ]
    }
   ],
   "source": [
    "tuple = (\"Ekiti\", 750, 'Oshogbo', 250, \"Akure\", 500)\n",
    "s_tuple = (\"Abeokuta\", 300, \"Ogbomoso\")\n",
    "\n",
    "# Prints the complete tuple \n",
    "print (tuple)\n",
    "\n",
    "# Prints last elements of the tuple \n",
    "print (tuple[-1])\n",
    "\n",
    "# Print elements of the tuple starting from 2nd till 3rd \n",
    "print (tuple[2:4])\n",
    "\n",
    "# Prints elements of the tuple starting from 3rd elements \n",
    "print (tuple [3:])\n",
    "\n",
    "# Prints the contents of the tuple twice \n",
    "print (s_tuple * 3)\n",
    "\n",
    "# Prints concatenated tuples\n",
    "print (tuple + s_tuple)"
   ]
  },
  {
   "cell_type": "code",
   "execution_count": 22,
   "id": "c3526de1-b067-41a1-852e-cc99f2080d9d",
   "metadata": {},
   "outputs": [
    {
     "name": "stdout",
     "output_type": "stream",
     "text": [
      "False\n",
      "False\n",
      "False\n",
      "False\n",
      "True\n"
     ]
    }
   ],
   "source": [
    "# Returns false as game_1 is not equal to game_2\n",
    "game_1 = 2\n",
    "game_2 = 4\n",
    "print(bool(game_1 == game_2))\n",
    "#\n",
    "print(game_1 == game_2)\n",
    "\n",
    "# Returns False as val is None \n",
    "val = None \n",
    "print(bool(val))\n",
    "\n",
    "# Returns false as num is an empty sequence \n",
    "num = ()\n",
    "print(bool(num))\n",
    "\n",
    "#Returns true as age is boolean \n",
    "age = True \n",
    "print (bool(age))"
   ]
  },
  {
   "cell_type": "code",
   "execution_count": 26,
   "id": "b8da2704-9e1d-42c6-84b1-b42848354478",
   "metadata": {},
   "outputs": [
    {
     "name": "stdout",
     "output_type": "stream",
     "text": [
      "Grade = 70 \n",
      "GPA = 4\n",
      "CGPA =4\n"
     ]
    }
   ],
   "source": [
    "# Convert to int \n",
    "\n",
    "grade = int(70)   # grade will be 79\n",
    "gpa = int (4.9)   # gpa will be 4.9 \n",
    "cpga = int (\"4\")  # cpga will be 4\n",
    "\n",
    "print(f\"Grade = {grade} \")\n",
    "print(f\"GPA = {gpa}\" )\n",
    "print(f\"CGPA ={cpga}\")"
   ]
  },
  {
   "cell_type": "code",
   "execution_count": 30,
   "id": "24f7cf5c-6eb4-463e-80e5-d31319e4fe94",
   "metadata": {},
   "outputs": [
    {
     "name": "stdout",
     "output_type": "stream",
     "text": [
      "Grade = 97.0\n",
      "GPA = 5.0\n",
      "CGPA = 4.7\n"
     ]
    }
   ],
   "source": [
    "# Convert to float \n",
    "\n",
    "grade = float(97)\n",
    "gpa   = float(5)\n",
    "cgpa  = float(\"4.7\")\n",
    "\n",
    "print(f\"Grade = {grade}\")\n",
    "print(f\"GPA = {gpa}\")\n",
    "print(f\"CGPA = {cgpa}\")\n"
   ]
  },
  {
   "cell_type": "code",
   "execution_count": null,
   "id": "4c2a6538-8311-429e-a4b0-9acff1585d7b",
   "metadata": {},
   "outputs": [],
   "source": []
  }
 ],
 "metadata": {
  "kernelspec": {
   "display_name": "Python [conda env:base] *",
   "language": "python",
   "name": "conda-base-py"
  },
  "language_info": {
   "codemirror_mode": {
    "name": "ipython",
    "version": 3
   },
   "file_extension": ".py",
   "mimetype": "text/x-python",
   "name": "python",
   "nbconvert_exporter": "python",
   "pygments_lexer": "ipython3",
   "version": "3.12.7"
  }
 },
 "nbformat": 4,
 "nbformat_minor": 5
}
