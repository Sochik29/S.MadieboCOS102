{
 "cells": [
  {
   "cell_type": "code",
   "execution_count": null,
   "id": "d175c19c-93c3-407d-bf20-8b9d5d36f331",
   "metadata": {},
   "outputs": [
    {
     "name": "stdout",
     "output_type": "stream",
     "text": [
      "Choose the type of equation to solve:\n",
      "1. Quadratic\n",
      "2. Cubic\n",
      "3. Quartic\n"
     ]
    }
   ],
   "source": [
    "import math\n",
    "import cmath\n",
    "\n",
    "def solve_quadratic():\n",
    "    print(\"Quadratic Equation: Ax² + Bx + C = 0\")\n",
    "    a = float(input(\"Enter A: \"))\n",
    "    b = float(input(\"Enter B: \"))\n",
    "    c = float(input(\"Enter C: \"))\n",
    "\n",
    "    discriminant = b**2 - 4*a*c\n",
    "    root1 = (-b + cmath.sqrt(discriminant)) / (2*a)\n",
    "    root2 = (-b - cmath.sqrt(discriminant)) / (2*a)\n",
    "\n",
    "    print(\"Roots are:\", root1, \"and\", root2)\n",
    "\n",
    "def solve_cubic():\n",
    "    print(\"Cubic Equation: Ax³ + Bx² + Cx + D = 0\")\n",
    "    a = float(input(\"Enter A: \"))\n",
    "    b = float(input(\"Enter B: \"))\n",
    "    c = float(input(\"Enter C: \"))\n",
    "    d = float(input(\"Enter D: \"))\n",
    "\n",
    "    # Use numpy for simplicity\n",
    "    import numpy as np\n",
    "    roots = np.roots([a, b, c, d])\n",
    "    print(\"Roots are:\", roots)\n",
    "\n",
    "def solve_quartic():\n",
    "    print(\"Quartic Equation: Ax⁴ + Bx³ + Cx² + Dx + E = 0\")\n",
    "    a = float(input(\"Enter A: \"))\n",
    "    b = float(input(\"Enter B: \"))\n",
    "    c = float(input(\"Enter C: \"))\n",
    "    d = float(input(\"Enter D: \"))\n",
    "    e = float(input(\"Enter E: \"))\n",
    "\n",
    "    # Use numpy for simplicity\n",
    "    import numpy as np\n",
    "    roots = np.roots([a, b, c, d, e])\n",
    "    print(\"Roots are:\", roots)\n",
    "\n",
    "# Main program\n",
    "print(\"Choose the type of equation to solve:\")\n",
    "print(\"1. Quadratic\")\n",
    "print(\"2. Cubic\")\n",
    "print(\"3. Quartic\")\n",
    "\n",
    "choice = input(\"Enter your choice (1/2/3): \")\n",
    "\n",
    "if choice == '1':\n",
    "    solve_quadratic()\n",
    "elif choice == '2':\n",
    "    solve_cubic()\n",
    "elif choice == '3':\n",
    "    solve_quartic()\n",
    "else:\n",
    "    print(\"Invalid choice\")"
   ]
  },
  {
   "cell_type": "code",
   "execution_count": null,
   "id": "96dab465-ed73-4f3c-90cf-70c224c7b150",
   "metadata": {},
   "outputs": [],
   "source": []
  }
 ],
 "metadata": {
  "kernelspec": {
   "display_name": "Python [conda env:base] *",
   "language": "python",
   "name": "conda-base-py"
  },
  "language_info": {
   "codemirror_mode": {
    "name": "ipython",
    "version": 3
   },
   "file_extension": ".py",
   "mimetype": "text/x-python",
   "name": "python",
   "nbconvert_exporter": "python",
   "pygments_lexer": "ipython3",
   "version": "3.12.7"
  }
 },
 "nbformat": 4,
 "nbformat_minor": 5
}
