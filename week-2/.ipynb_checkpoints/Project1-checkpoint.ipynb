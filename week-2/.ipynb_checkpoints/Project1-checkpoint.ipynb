{
 "cells": [
  {
   "cell_type": "code",
   "execution_count": 1,
   "id": "120d8934-90c4-4d2d-98e6-46a3002425eb",
   "metadata": {},
   "outputs": [
    {
     "ename": "IndentationError",
     "evalue": "unexpected indent (2097827739.py, line 2)",
     "output_type": "error",
     "traceback": [
      "\u001b[0;36m  Cell \u001b[0;32mIn[1], line 2\u001b[0;36m\u001b[0m\n\u001b[0;31m    Display \"Enter number of items\"\u001b[0m\n\u001b[0m    ^\u001b[0m\n\u001b[0;31mIndentationError\u001b[0m\u001b[0;31m:\u001b[0m unexpected indent\n"
     ]
    }
   ],
   "source": [
    "START\n",
    "  Display \"Enter number of items\"\n",
    "  Read num_items\n",
    "  total_cost ← 0\n",
    "\n",
    "  FOR i = 1 TO num_items\n",
    "    Display \"Enter price of item\", i\n",
    "    Read price\n",
    "    total_cost ← total_cost + price\n",
    "  END FOR\n",
    "\n",
    "  Display \"Enter payment amount\"\n",
    "  Read payment\n",
    "  IF payment ≥ total_cost THEN\n",
    "    change ← payment - total_cost\n",
    "    Display \"Change is\", change\n",
    "  ELSE\n",
    "    Display \"Insufficient payment\"\n",
    "  END IF\n",
    "END"
   ]
  },
  {
   "cell_type": "code",
   "execution_count": 3,
   "id": "021cf496-2842-41aa-9461-0e9a0fe1c65a",
   "metadata": {},
   "outputs": [
    {
     "ename": "SyntaxError",
     "evalue": "invalid character '•' (U+2022) (3170053221.py, line 1)",
     "output_type": "error",
     "traceback": [
      "\u001b[0;36m  Cell \u001b[0;32mIn[3], line 1\u001b[0;36m\u001b[0m\n\u001b[0;31m    •\tWake up → Brush teeth → Take shower → Eat breakfast → Pack bag → Leave home.\u001b[0m\n\u001b[0m    ^\u001b[0m\n\u001b[0;31mSyntaxError\u001b[0m\u001b[0;31m:\u001b[0m invalid character '•' (U+2022)\n"
     ]
    }
   ],
   "source": [
    "\t•\tWake up → Brush teeth → Take shower → Eat breakfast → Pack bag → Leave home.\n"
   ]
  },
  {
   "cell_type": "code",
   "execution_count": null,
   "id": "403c1fd6-bbb6-4d26-8039-c8f60f9c7972",
   "metadata": {},
   "outputs": [],
   "source": [
    "START\n",
    "  Read name1, age1\n",
    "  Read name2, age2\n",
    "  temp ← age1\n",
    "  age1 ← age2\n",
    "  age2 ← temp\n",
    "  Display name1, age1\n",
    "  Display name2, age2\n",
    "END"
   ]
  }
 ],
 "metadata": {
  "kernelspec": {
   "display_name": "Python [conda env:base] *",
   "language": "python",
   "name": "conda-base-py"
  },
  "language_info": {
   "codemirror_mode": {
    "name": "ipython",
    "version": 3
   },
   "file_extension": ".py",
   "mimetype": "text/x-python",
   "name": "python",
   "nbconvert_exporter": "python",
   "pygments_lexer": "ipython3",
   "version": "3.12.7"
  }
 },
 "nbformat": 4,
 "nbformat_minor": 5
}
